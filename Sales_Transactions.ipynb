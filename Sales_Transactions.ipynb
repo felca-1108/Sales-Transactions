{
  "nbformat": 4,
  "nbformat_minor": 0,
  "metadata": {
    "colab": {
      "name": "Sales Transactions.ipynb",
      "provenance": [],
      "collapsed_sections": []
    },
    "kernelspec": {
      "name": "python3",
      "display_name": "Python 3"
    },
    "language_info": {
      "name": "python"
    }
  },
  "cells": [
    {
      "cell_type": "markdown",
      "source": [
        "## Sales Transactions\n",
        "\n",
        "This project consists in a forecasting task. I used a dataset hosted in UCI Machine Learning Repository. It can be downloaded in https://archive.ics.uci.edu/ml/datasets/Sales_Transactions_Dataset_Weekly.\n",
        "\n",
        "This dataset contains data of sales of 810 products, splitted in 52 weeks. The main goal of this project is to predict the sales for 1 week ahead for each product.\n",
        "\n",
        "This project will show a simple solution for a time series problem."
      ],
      "metadata": {
        "id": "ZD7zQ6bFp99W"
      }
    },
    {
      "cell_type": "code",
      "execution_count": null,
      "metadata": {
        "id": "kyC-YaLAntJ2"
      },
      "outputs": [],
      "source": [
        "# Importing the libraries.\n",
        "import pandas as pd\n",
        "import numpy as np\n",
        "import matplotlib.pyplot as plt\n",
        "import seaborn as sns\n",
        "%matplotlib inline\n",
        "import warnings\n",
        "warnings.filterwarnings(\"ignore\")"
      ]
    },
    {
      "cell_type": "code",
      "source": [
        "#Loading the train dataset\n",
        "df=pd.read_csv('/content/Sales_Transactions_Dataset_Weekly.csv')"
      ],
      "metadata": {
        "id": "kVb2Pd4wn4Z6"
      },
      "execution_count": null,
      "outputs": []
    },
    {
      "cell_type": "code",
      "source": [
        "df.head()"
      ],
      "metadata": {
        "colab": {
          "base_uri": "https://localhost:8080/",
          "height": 317
        },
        "id": "cZq4ESqzn9OB",
        "outputId": "aea4b598-fd27-47e1-b229-72bfe1a4ec25"
      },
      "execution_count": null,
      "outputs": [
        {
          "output_type": "execute_result",
          "data": {
            "text/plain": [
              "  Product_Code  W0  W1  W2  W3  W4  W5  W6  W7  W8  ...  Normalized 42  \\\n",
              "0           P1  11  12  10   8  13  12  14  21   6  ...           0.06   \n",
              "1           P2   7   6   3   2   7   1   6   3   3  ...           0.20   \n",
              "2           P3   7  11   8   9  10   8   7  13  12  ...           0.27   \n",
              "3           P4  12   8  13   5   9   6   9  13  13  ...           0.41   \n",
              "4           P5   8   5  13  11   6   7   9  14   9  ...           0.27   \n",
              "\n",
              "   Normalized 43  Normalized 44  Normalized 45  Normalized 46  Normalized 47  \\\n",
              "0           0.22           0.28           0.39           0.50           0.00   \n",
              "1           0.40           0.50           0.10           0.10           0.40   \n",
              "2           1.00           0.18           0.18           0.36           0.45   \n",
              "3           0.47           0.06           0.12           0.24           0.35   \n",
              "4           0.53           0.27           0.60           0.20           0.20   \n",
              "\n",
              "   Normalized 48  Normalized 49  Normalized 50  Normalized 51  \n",
              "0           0.22           0.17           0.11           0.39  \n",
              "1           0.50           0.10           0.60           0.00  \n",
              "2           1.00           0.45           0.45           0.36  \n",
              "3           0.71           0.35           0.29           0.35  \n",
              "4           0.13           0.53           0.33           0.40  \n",
              "\n",
              "[5 rows x 107 columns]"
            ],
            "text/html": [
              "\n",
              "  <div id=\"df-dfbe30e4-564e-4446-9fe9-8033f58507e0\">\n",
              "    <div class=\"colab-df-container\">\n",
              "      <div>\n",
              "<style scoped>\n",
              "    .dataframe tbody tr th:only-of-type {\n",
              "        vertical-align: middle;\n",
              "    }\n",
              "\n",
              "    .dataframe tbody tr th {\n",
              "        vertical-align: top;\n",
              "    }\n",
              "\n",
              "    .dataframe thead th {\n",
              "        text-align: right;\n",
              "    }\n",
              "</style>\n",
              "<table border=\"1\" class=\"dataframe\">\n",
              "  <thead>\n",
              "    <tr style=\"text-align: right;\">\n",
              "      <th></th>\n",
              "      <th>Product_Code</th>\n",
              "      <th>W0</th>\n",
              "      <th>W1</th>\n",
              "      <th>W2</th>\n",
              "      <th>W3</th>\n",
              "      <th>W4</th>\n",
              "      <th>W5</th>\n",
              "      <th>W6</th>\n",
              "      <th>W7</th>\n",
              "      <th>W8</th>\n",
              "      <th>...</th>\n",
              "      <th>Normalized 42</th>\n",
              "      <th>Normalized 43</th>\n",
              "      <th>Normalized 44</th>\n",
              "      <th>Normalized 45</th>\n",
              "      <th>Normalized 46</th>\n",
              "      <th>Normalized 47</th>\n",
              "      <th>Normalized 48</th>\n",
              "      <th>Normalized 49</th>\n",
              "      <th>Normalized 50</th>\n",
              "      <th>Normalized 51</th>\n",
              "    </tr>\n",
              "  </thead>\n",
              "  <tbody>\n",
              "    <tr>\n",
              "      <th>0</th>\n",
              "      <td>P1</td>\n",
              "      <td>11</td>\n",
              "      <td>12</td>\n",
              "      <td>10</td>\n",
              "      <td>8</td>\n",
              "      <td>13</td>\n",
              "      <td>12</td>\n",
              "      <td>14</td>\n",
              "      <td>21</td>\n",
              "      <td>6</td>\n",
              "      <td>...</td>\n",
              "      <td>0.06</td>\n",
              "      <td>0.22</td>\n",
              "      <td>0.28</td>\n",
              "      <td>0.39</td>\n",
              "      <td>0.50</td>\n",
              "      <td>0.00</td>\n",
              "      <td>0.22</td>\n",
              "      <td>0.17</td>\n",
              "      <td>0.11</td>\n",
              "      <td>0.39</td>\n",
              "    </tr>\n",
              "    <tr>\n",
              "      <th>1</th>\n",
              "      <td>P2</td>\n",
              "      <td>7</td>\n",
              "      <td>6</td>\n",
              "      <td>3</td>\n",
              "      <td>2</td>\n",
              "      <td>7</td>\n",
              "      <td>1</td>\n",
              "      <td>6</td>\n",
              "      <td>3</td>\n",
              "      <td>3</td>\n",
              "      <td>...</td>\n",
              "      <td>0.20</td>\n",
              "      <td>0.40</td>\n",
              "      <td>0.50</td>\n",
              "      <td>0.10</td>\n",
              "      <td>0.10</td>\n",
              "      <td>0.40</td>\n",
              "      <td>0.50</td>\n",
              "      <td>0.10</td>\n",
              "      <td>0.60</td>\n",
              "      <td>0.00</td>\n",
              "    </tr>\n",
              "    <tr>\n",
              "      <th>2</th>\n",
              "      <td>P3</td>\n",
              "      <td>7</td>\n",
              "      <td>11</td>\n",
              "      <td>8</td>\n",
              "      <td>9</td>\n",
              "      <td>10</td>\n",
              "      <td>8</td>\n",
              "      <td>7</td>\n",
              "      <td>13</td>\n",
              "      <td>12</td>\n",
              "      <td>...</td>\n",
              "      <td>0.27</td>\n",
              "      <td>1.00</td>\n",
              "      <td>0.18</td>\n",
              "      <td>0.18</td>\n",
              "      <td>0.36</td>\n",
              "      <td>0.45</td>\n",
              "      <td>1.00</td>\n",
              "      <td>0.45</td>\n",
              "      <td>0.45</td>\n",
              "      <td>0.36</td>\n",
              "    </tr>\n",
              "    <tr>\n",
              "      <th>3</th>\n",
              "      <td>P4</td>\n",
              "      <td>12</td>\n",
              "      <td>8</td>\n",
              "      <td>13</td>\n",
              "      <td>5</td>\n",
              "      <td>9</td>\n",
              "      <td>6</td>\n",
              "      <td>9</td>\n",
              "      <td>13</td>\n",
              "      <td>13</td>\n",
              "      <td>...</td>\n",
              "      <td>0.41</td>\n",
              "      <td>0.47</td>\n",
              "      <td>0.06</td>\n",
              "      <td>0.12</td>\n",
              "      <td>0.24</td>\n",
              "      <td>0.35</td>\n",
              "      <td>0.71</td>\n",
              "      <td>0.35</td>\n",
              "      <td>0.29</td>\n",
              "      <td>0.35</td>\n",
              "    </tr>\n",
              "    <tr>\n",
              "      <th>4</th>\n",
              "      <td>P5</td>\n",
              "      <td>8</td>\n",
              "      <td>5</td>\n",
              "      <td>13</td>\n",
              "      <td>11</td>\n",
              "      <td>6</td>\n",
              "      <td>7</td>\n",
              "      <td>9</td>\n",
              "      <td>14</td>\n",
              "      <td>9</td>\n",
              "      <td>...</td>\n",
              "      <td>0.27</td>\n",
              "      <td>0.53</td>\n",
              "      <td>0.27</td>\n",
              "      <td>0.60</td>\n",
              "      <td>0.20</td>\n",
              "      <td>0.20</td>\n",
              "      <td>0.13</td>\n",
              "      <td>0.53</td>\n",
              "      <td>0.33</td>\n",
              "      <td>0.40</td>\n",
              "    </tr>\n",
              "  </tbody>\n",
              "</table>\n",
              "<p>5 rows × 107 columns</p>\n",
              "</div>\n",
              "      <button class=\"colab-df-convert\" onclick=\"convertToInteractive('df-dfbe30e4-564e-4446-9fe9-8033f58507e0')\"\n",
              "              title=\"Convert this dataframe to an interactive table.\"\n",
              "              style=\"display:none;\">\n",
              "        \n",
              "  <svg xmlns=\"http://www.w3.org/2000/svg\" height=\"24px\"viewBox=\"0 0 24 24\"\n",
              "       width=\"24px\">\n",
              "    <path d=\"M0 0h24v24H0V0z\" fill=\"none\"/>\n",
              "    <path d=\"M18.56 5.44l.94 2.06.94-2.06 2.06-.94-2.06-.94-.94-2.06-.94 2.06-2.06.94zm-11 1L8.5 8.5l.94-2.06 2.06-.94-2.06-.94L8.5 2.5l-.94 2.06-2.06.94zm10 10l.94 2.06.94-2.06 2.06-.94-2.06-.94-.94-2.06-.94 2.06-2.06.94z\"/><path d=\"M17.41 7.96l-1.37-1.37c-.4-.4-.92-.59-1.43-.59-.52 0-1.04.2-1.43.59L10.3 9.45l-7.72 7.72c-.78.78-.78 2.05 0 2.83L4 21.41c.39.39.9.59 1.41.59.51 0 1.02-.2 1.41-.59l7.78-7.78 2.81-2.81c.8-.78.8-2.07 0-2.86zM5.41 20L4 18.59l7.72-7.72 1.47 1.35L5.41 20z\"/>\n",
              "  </svg>\n",
              "      </button>\n",
              "      \n",
              "  <style>\n",
              "    .colab-df-container {\n",
              "      display:flex;\n",
              "      flex-wrap:wrap;\n",
              "      gap: 12px;\n",
              "    }\n",
              "\n",
              "    .colab-df-convert {\n",
              "      background-color: #E8F0FE;\n",
              "      border: none;\n",
              "      border-radius: 50%;\n",
              "      cursor: pointer;\n",
              "      display: none;\n",
              "      fill: #1967D2;\n",
              "      height: 32px;\n",
              "      padding: 0 0 0 0;\n",
              "      width: 32px;\n",
              "    }\n",
              "\n",
              "    .colab-df-convert:hover {\n",
              "      background-color: #E2EBFA;\n",
              "      box-shadow: 0px 1px 2px rgba(60, 64, 67, 0.3), 0px 1px 3px 1px rgba(60, 64, 67, 0.15);\n",
              "      fill: #174EA6;\n",
              "    }\n",
              "\n",
              "    [theme=dark] .colab-df-convert {\n",
              "      background-color: #3B4455;\n",
              "      fill: #D2E3FC;\n",
              "    }\n",
              "\n",
              "    [theme=dark] .colab-df-convert:hover {\n",
              "      background-color: #434B5C;\n",
              "      box-shadow: 0px 1px 3px 1px rgba(0, 0, 0, 0.15);\n",
              "      filter: drop-shadow(0px 1px 2px rgba(0, 0, 0, 0.3));\n",
              "      fill: #FFFFFF;\n",
              "    }\n",
              "  </style>\n",
              "\n",
              "      <script>\n",
              "        const buttonEl =\n",
              "          document.querySelector('#df-dfbe30e4-564e-4446-9fe9-8033f58507e0 button.colab-df-convert');\n",
              "        buttonEl.style.display =\n",
              "          google.colab.kernel.accessAllowed ? 'block' : 'none';\n",
              "\n",
              "        async function convertToInteractive(key) {\n",
              "          const element = document.querySelector('#df-dfbe30e4-564e-4446-9fe9-8033f58507e0');\n",
              "          const dataTable =\n",
              "            await google.colab.kernel.invokeFunction('convertToInteractive',\n",
              "                                                     [key], {});\n",
              "          if (!dataTable) return;\n",
              "\n",
              "          const docLinkHtml = 'Like what you see? Visit the ' +\n",
              "            '<a target=\"_blank\" href=https://colab.research.google.com/notebooks/data_table.ipynb>data table notebook</a>'\n",
              "            + ' to learn more about interactive tables.';\n",
              "          element.innerHTML = '';\n",
              "          dataTable['output_type'] = 'display_data';\n",
              "          await google.colab.output.renderOutput(dataTable, element);\n",
              "          const docLink = document.createElement('div');\n",
              "          docLink.innerHTML = docLinkHtml;\n",
              "          element.appendChild(docLink);\n",
              "        }\n",
              "      </script>\n",
              "    </div>\n",
              "  </div>\n",
              "  "
            ]
          },
          "metadata": {},
          "execution_count": 103
        }
      ]
    },
    {
      "cell_type": "markdown",
      "source": [
        "The dataset contains 107 columns, as that is shown below:\n",
        "\n",
        "- 1 Column with the product codes;\n",
        "- 52 Columns with each week sales with absolute values;\n",
        "- 1 Column with the Max quantity and 1 with the Min qunatity of sales per product;\n",
        "- 52 Columns with Normalized values for the sales per Product.\n",
        "\n",
        "There are computed the sales for 810 products.\n",
        "\n",
        "First of all, let's investigate the type of normalization used.\n"
      ],
      "metadata": {
        "id": "PX0SBIToy_jS"
      }
    },
    {
      "cell_type": "code",
      "source": [
        "from sklearn.preprocessing import MinMaxScaler\n",
        "scaler=MinMaxScaler()\n",
        "test_norm=pd.DataFrame(scaler.fit_transform(df.iloc[1,1:53].values.reshape(-1,1))) \n",
        "test_norm2=pd.DataFrame(df.iloc[1,55:].values)                                                                  \n",
        "(test_norm-test_norm2).value_counts()"
      ],
      "metadata": {
        "colab": {
          "base_uri": "https://localhost:8080/"
        },
        "id": "btIYf8sjqyk_",
        "outputId": "1b73e8e1-1234-41fb-dc08-759bed27fbcf"
      },
      "execution_count": null,
      "outputs": [
        {
          "output_type": "execute_result",
          "data": {
            "text/plain": [
              "0.000000e+00    32\n",
              "1.110223e-16    11\n",
              "5.551115e-17     9\n",
              "dtype: int64"
            ]
          },
          "metadata": {},
          "execution_count": 104
        }
      ]
    },
    {
      "cell_type": "markdown",
      "source": [
        "As we can see it was used the MaxMinScaler from SKLearn.\n",
        "\n"
      ],
      "metadata": {
        "id": "V_MWzs7d4e15"
      }
    },
    {
      "cell_type": "markdown",
      "source": [
        "##  EDA and Data Prepocessing"
      ],
      "metadata": {
        "id": "yAfH7wlOS20A"
      }
    },
    {
      "cell_type": "markdown",
      "source": [
        "As the project consists in a time series one, to get to know the trend and seasonality among the weeks, let's see the graphic of the progression of the sales.\n",
        "\n",
        "As we are analyzing different products with diferent scales, to understand the sales behavior we are going to use the normalized data.\n"
      ],
      "metadata": {
        "id": "8B--8f1qS7tM"
      }
    },
    {
      "cell_type": "code",
      "source": [
        "#Splitting the datased in normalized and absolute data.\n",
        "df_norm=df.filter(regex=r'Product|Normalize')\n",
        "df_abs=df.filter(regex=r'Product|W')"
      ],
      "metadata": {
        "id": "seliH4Lr45sg"
      },
      "execution_count": null,
      "outputs": []
    },
    {
      "cell_type": "code",
      "source": [
        "#There are not NaN values in the dataset.\n",
        "df_norm.isnull().sum(), df_abs.isnull().sum()"
      ],
      "metadata": {
        "colab": {
          "base_uri": "https://localhost:8080/"
        },
        "id": "DjpvZAKZ4_mV",
        "outputId": "46322482-6454-4817-eedc-0076acb57184"
      },
      "execution_count": null,
      "outputs": [
        {
          "output_type": "execute_result",
          "data": {
            "text/plain": [
              "(Product_Code     0\n",
              " Normalized 0     0\n",
              " Normalized 1     0\n",
              " Normalized 2     0\n",
              " Normalized 3     0\n",
              " Normalized 4     0\n",
              " Normalized 5     0\n",
              " Normalized 6     0\n",
              " Normalized 7     0\n",
              " Normalized 8     0\n",
              " Normalized 9     0\n",
              " Normalized 10    0\n",
              " Normalized 11    0\n",
              " Normalized 12    0\n",
              " Normalized 13    0\n",
              " Normalized 14    0\n",
              " Normalized 15    0\n",
              " Normalized 16    0\n",
              " Normalized 17    0\n",
              " Normalized 18    0\n",
              " Normalized 19    0\n",
              " Normalized 20    0\n",
              " Normalized 21    0\n",
              " Normalized 22    0\n",
              " Normalized 23    0\n",
              " Normalized 24    0\n",
              " Normalized 25    0\n",
              " Normalized 26    0\n",
              " Normalized 27    0\n",
              " Normalized 28    0\n",
              " Normalized 29    0\n",
              " Normalized 30    0\n",
              " Normalized 31    0\n",
              " Normalized 32    0\n",
              " Normalized 33    0\n",
              " Normalized 34    0\n",
              " Normalized 35    0\n",
              " Normalized 36    0\n",
              " Normalized 37    0\n",
              " Normalized 38    0\n",
              " Normalized 39    0\n",
              " Normalized 40    0\n",
              " Normalized 41    0\n",
              " Normalized 42    0\n",
              " Normalized 43    0\n",
              " Normalized 44    0\n",
              " Normalized 45    0\n",
              " Normalized 46    0\n",
              " Normalized 47    0\n",
              " Normalized 48    0\n",
              " Normalized 49    0\n",
              " Normalized 50    0\n",
              " Normalized 51    0\n",
              " dtype: int64, Product_Code    0\n",
              " W0              0\n",
              " W1              0\n",
              " W2              0\n",
              " W3              0\n",
              " W4              0\n",
              " W5              0\n",
              " W6              0\n",
              " W7              0\n",
              " W8              0\n",
              " W9              0\n",
              " W10             0\n",
              " W11             0\n",
              " W12             0\n",
              " W13             0\n",
              " W14             0\n",
              " W15             0\n",
              " W16             0\n",
              " W17             0\n",
              " W18             0\n",
              " W19             0\n",
              " W20             0\n",
              " W21             0\n",
              " W22             0\n",
              " W23             0\n",
              " W24             0\n",
              " W25             0\n",
              " W26             0\n",
              " W27             0\n",
              " W28             0\n",
              " W29             0\n",
              " W30             0\n",
              " W31             0\n",
              " W32             0\n",
              " W33             0\n",
              " W34             0\n",
              " W35             0\n",
              " W36             0\n",
              " W37             0\n",
              " W38             0\n",
              " W39             0\n",
              " W40             0\n",
              " W41             0\n",
              " W42             0\n",
              " W43             0\n",
              " W44             0\n",
              " W45             0\n",
              " W46             0\n",
              " W47             0\n",
              " W48             0\n",
              " W49             0\n",
              " W50             0\n",
              " W51             0\n",
              " dtype: int64)"
            ]
          },
          "metadata": {},
          "execution_count": 106
        }
      ]
    },
    {
      "cell_type": "code",
      "source": [
        "#Let's see the progression of sales among the weeks using the summation of the products per week.\n",
        "df_sum=pd.DataFrame(np.zeros(52))\n",
        "linha=0\n",
        "for linha in range (0,52):\n",
        "  df_sum.iloc[linha,0]=df_norm.iloc[:,linha+1].sum()\n",
        " \n"
      ],
      "metadata": {
        "id": "gooJAWo76c62"
      },
      "execution_count": null,
      "outputs": []
    },
    {
      "cell_type": "code",
      "source": [
        "#Representing graphically.\n",
        "fig = plt.figure(figsize=(8,4))\n",
        "axes = fig.add_axes([0.1, 0.1, 0.8, 0.8]) \n",
        "axes.plot(df_sum)\n",
        "axes.set_xlabel('Weeks') \n",
        "axes.set_ylabel('Sum of Normalized Sales')\n",
        "axes.set_title('Sales Over the year')"
      ],
      "metadata": {
        "colab": {
          "base_uri": "https://localhost:8080/",
          "height": 325
        },
        "id": "zaQu8S9eh6Lo",
        "outputId": "751e69e2-efce-4e5e-edf1-2bb2e24d1a83"
      },
      "execution_count": null,
      "outputs": [
        {
          "output_type": "execute_result",
          "data": {
            "text/plain": [
              "Text(0.5, 1.0, 'Sales Over the year')"
            ]
          },
          "metadata": {},
          "execution_count": 109
        },
        {
          "output_type": "display_data",
          "data": {
            "text/plain": [
              "<Figure size 576x288 with 1 Axes>"
            ],
            "image/png": "[encoded data removed]"
          },
          "metadata": {
            "needs_background": "light"
          }
        }
      ]
    },
    {
      "cell_type": "code",
      "source": [
        "#Descriptive Statistics\n",
        "df_sum.describe()"
      ],
      "metadata": {
        "colab": {
          "base_uri": "https://localhost:8080/",
          "height": 300
        },
        "id": "g6mZIeazCo5e",
        "outputId": "eb91a794-7005-403c-ec10-7842f8142c10"
      },
      "execution_count": null,
      "outputs": [
        {
          "output_type": "execute_result",
          "data": {
            "text/plain": [
              "                0\n",
              "count   52.000000\n",
              "mean   253.136923\n",
              "std     39.334245\n",
              "min    168.360000\n",
              "25%    224.167500\n",
              "50%    261.220000\n",
              "75%    275.112500\n",
              "max    347.060000"
            ],
            "text/html": [
              "\n",
              "  <div id=\"df-7d28ecd2-07c8-41bf-9a65-c246092866c0\">\n",
              "    <div class=\"colab-df-container\">\n",
              "      <div>\n",
              "<style scoped>\n",
              "    .dataframe tbody tr th:only-of-type {\n",
              "        vertical-align: middle;\n",
              "    }\n",
              "\n",
              "    .dataframe tbody tr th {\n",
              "        vertical-align: top;\n",
              "    }\n",
              "\n",
              "    .dataframe thead th {\n",
              "        text-align: right;\n",
              "    }\n",
              "</style>\n",
              "<table border=\"1\" class=\"dataframe\">\n",
              "  <thead>\n",
              "    <tr style=\"text-align: right;\">\n",
              "      <th></th>\n",
              "      <th>0</th>\n",
              "    </tr>\n",
              "  </thead>\n",
              "  <tbody>\n",
              "    <tr>\n",
              "      <th>count</th>\n",
              "      <td>52.000000</td>\n",
              "    </tr>\n",
              "    <tr>\n",
              "      <th>mean</th>\n",
              "      <td>253.136923</td>\n",
              "    </tr>\n",
              "    <tr>\n",
              "      <th>std</th>\n",
              "      <td>39.334245</td>\n",
              "    </tr>\n",
              "    <tr>\n",
              "      <th>min</th>\n",
              "      <td>168.360000</td>\n",
              "    </tr>\n",
              "    <tr>\n",
              "      <th>25%</th>\n",
              "      <td>224.167500</td>\n",
              "    </tr>\n",
              "    <tr>\n",
              "      <th>50%</th>\n",
              "      <td>261.220000</td>\n",
              "    </tr>\n",
              "    <tr>\n",
              "      <th>75%</th>\n",
              "      <td>275.112500</td>\n",
              "    </tr>\n",
              "    <tr>\n",
              "      <th>max</th>\n",
              "      <td>347.060000</td>\n",
              "    </tr>\n",
              "  </tbody>\n",
              "</table>\n",
              "</div>\n",
              "      <button class=\"colab-df-convert\" onclick=\"convertToInteractive('df-7d28ecd2-07c8-41bf-9a65-c246092866c0')\"\n",
              "              title=\"Convert this dataframe to an interactive table.\"\n",
              "              style=\"display:none;\">\n",
              "        \n",
              "  <svg xmlns=\"http://www.w3.org/2000/svg\" height=\"24px\"viewBox=\"0 0 24 24\"\n",
              "       width=\"24px\">\n",
              "    <path d=\"M0 0h24v24H0V0z\" fill=\"none\"/>\n",
              "    <path d=\"M18.56 5.44l.94 2.06.94-2.06 2.06-.94-2.06-.94-.94-2.06-.94 2.06-2.06.94zm-11 1L8.5 8.5l.94-2.06 2.06-.94-2.06-.94L8.5 2.5l-.94 2.06-2.06.94zm10 10l.94 2.06.94-2.06 2.06-.94-2.06-.94-.94-2.06-.94 2.06-2.06.94z\"/><path d=\"M17.41 7.96l-1.37-1.37c-.4-.4-.92-.59-1.43-.59-.52 0-1.04.2-1.43.59L10.3 9.45l-7.72 7.72c-.78.78-.78 2.05 0 2.83L4 21.41c.39.39.9.59 1.41.59.51 0 1.02-.2 1.41-.59l7.78-7.78 2.81-2.81c.8-.78.8-2.07 0-2.86zM5.41 20L4 18.59l7.72-7.72 1.47 1.35L5.41 20z\"/>\n",
              "  </svg>\n",
              "      </button>\n",
              "      \n",
              "  <style>\n",
              "    .colab-df-container {\n",
              "      display:flex;\n",
              "      flex-wrap:wrap;\n",
              "      gap: 12px;\n",
              "    }\n",
              "\n",
              "    .colab-df-convert {\n",
              "      background-color: #E8F0FE;\n",
              "      border: none;\n",
              "      border-radius: 50%;\n",
              "      cursor: pointer;\n",
              "      display: none;\n",
              "      fill: #1967D2;\n",
              "      height: 32px;\n",
              "      padding: 0 0 0 0;\n",
              "      width: 32px;\n",
              "    }\n",
              "\n",
              "    .colab-df-convert:hover {\n",
              "      background-color: #E2EBFA;\n",
              "      box-shadow: 0px 1px 2px rgba(60, 64, 67, 0.3), 0px 1px 3px 1px rgba(60, 64, 67, 0.15);\n",
              "      fill: #174EA6;\n",
              "    }\n",
              "\n",
              "    [theme=dark] .colab-df-convert {\n",
              "      background-color: #3B4455;\n",
              "      fill: #D2E3FC;\n",
              "    }\n",
              "\n",
              "    [theme=dark] .colab-df-convert:hover {\n",
              "      background-color: #434B5C;\n",
              "      box-shadow: 0px 1px 3px 1px rgba(0, 0, 0, 0.15);\n",
              "      filter: drop-shadow(0px 1px 2px rgba(0, 0, 0, 0.3));\n",
              "      fill: #FFFFFF;\n",
              "    }\n",
              "  </style>\n",
              "\n",
              "      <script>\n",
              "        const buttonEl =\n",
              "          document.querySelector('#df-7d28ecd2-07c8-41bf-9a65-c246092866c0 button.colab-df-convert');\n",
              "        buttonEl.style.display =\n",
              "          google.colab.kernel.accessAllowed ? 'block' : 'none';\n",
              "\n",
              "        async function convertToInteractive(key) {\n",
              "          const element = document.querySelector('#df-7d28ecd2-07c8-41bf-9a65-c246092866c0');\n",
              "          const dataTable =\n",
              "            await google.colab.kernel.invokeFunction('convertToInteractive',\n",
              "                                                     [key], {});\n",
              "          if (!dataTable) return;\n",
              "\n",
              "          const docLinkHtml = 'Like what you see? Visit the ' +\n",
              "            '<a target=\"_blank\" href=https://colab.research.google.com/notebooks/data_table.ipynb>data table notebook</a>'\n",
              "            + ' to learn more about interactive tables.';\n",
              "          element.innerHTML = '';\n",
              "          dataTable['output_type'] = 'display_data';\n",
              "          await google.colab.output.renderOutput(dataTable, element);\n",
              "          const docLink = document.createElement('div');\n",
              "          docLink.innerHTML = docLinkHtml;\n",
              "          element.appendChild(docLink);\n",
              "        }\n",
              "      </script>\n",
              "    </div>\n",
              "  </div>\n",
              "  "
            ]
          },
          "metadata": {},
          "execution_count": 110
        }
      ]
    },
    {
      "cell_type": "markdown",
      "source": [
        "From the graphic above we can clearly see that the sales start small and keep growing till half of the year. Then the sales get really lower and again start growing till it's gets the higher point.\n",
        "\n",
        "We can see the presence of a trend and seasonality, so let's enginner some features to capt these particularities."
      ],
      "metadata": {
        "id": "-ZKfew4YCwbp"
      }
    },
    {
      "cell_type": "markdown",
      "source": [
        "We are going to have a prediction for product for week, that's 811*52 predictions, 42.172 predictions. To have one prediction for row, let's melt the data."
      ],
      "metadata": {
        "id": "4O-ohoCTLOvK"
      }
    },
    {
      "cell_type": "code",
      "source": [
        "df_abs_melt=df_abs.melt(id_vars='Product_Code', var_name='Week', value_name= 'Sales')"
      ],
      "metadata": {
        "id": "mXwff6nxLp3z"
      },
      "execution_count": null,
      "outputs": []
    },
    {
      "cell_type": "code",
      "source": [
        "#As we assumed, we have 42172 predictions.\n",
        "df_abs_melt.shape"
      ],
      "metadata": {
        "colab": {
          "base_uri": "https://localhost:8080/"
        },
        "id": "BXHpYfCgB8U3",
        "outputId": "70f8ce6b-2508-4ca9-e525-ca2f6f1b281e"
      },
      "execution_count": null,
      "outputs": [
        {
          "output_type": "execute_result",
          "data": {
            "text/plain": [
              "(42172, 3)"
            ]
          },
          "metadata": {},
          "execution_count": 112
        }
      ]
    },
    {
      "cell_type": "markdown",
      "source": [
        "To split the data, I want to capt the trend an seasonality, and for that I will split the data in the beginning of the second season. Taking 80% of the dataset to train we get around the 42th week."
      ],
      "metadata": {
        "id": "2aj936e0Pnst"
      }
    },
    {
      "cell_type": "code",
      "source": [
        "train_df=df_abs_melt.iloc[0:df_abs_melt.loc[df_abs_melt['Week']=='W42'].index[0]]\n",
        "val_df=df_abs_melt.iloc[df_abs_melt.loc[df_abs_melt['Week']=='W42'].index[0]:]\n",
        "train_df.shape, val_df.shape"
      ],
      "metadata": {
        "colab": {
          "base_uri": "https://localhost:8080/"
        },
        "id": "XEXYv_UEP0Qw",
        "outputId": "b8a5f78a-5573-4de2-cf33-6702ce45acd5"
      },
      "execution_count": null,
      "outputs": [
        {
          "output_type": "execute_result",
          "data": {
            "text/plain": [
              "((34062, 3), (8110, 3))"
            ]
          },
          "metadata": {},
          "execution_count": 113
        }
      ]
    },
    {
      "cell_type": "markdown",
      "source": [
        "Let's create a feature with the sales for next week. This one will be our target."
      ],
      "metadata": {
        "id": "wUUynLK3KKZh"
      }
    },
    {
      "cell_type": "code",
      "source": [
        "train_df['Sales_Next_Week']=train_df.groupby('Product_Code')['Sales'].shift(-1)\n",
        "val_df['Sales_Next_Week']=val_df.groupby('Product_Code')['Sales'].shift(-1)"
      ],
      "metadata": {
        "id": "B-F7lufMKTDO"
      },
      "execution_count": null,
      "outputs": []
    },
    {
      "cell_type": "markdown",
      "source": [
        "Let's start the feature engeneering!"
      ],
      "metadata": {
        "id": "Ay1TLdtfeYbx"
      }
    },
    {
      "cell_type": "code",
      "source": [
        "# 1 - Lag - Last period value (The W0 and W42 are going to contain NaNs).\n",
        "train_df['Lag']=train_df.groupby('Product_Code')['Sales'].shift(+1)\n",
        "val_df['Lag']=val_df.groupby('Product_Code')['Sales'].shift(+1)"
      ],
      "metadata": {
        "id": "SFG0VR84RNlw"
      },
      "execution_count": null,
      "outputs": []
    },
    {
      "cell_type": "code",
      "source": [
        "# 2 - Difference - Difference in relation to the last period.\n",
        "train_df['Dif']=train_df.groupby('Product_Code')['Sales'].diff(+1)\n",
        "val_df['Dif']=val_df.groupby('Product_Code')['Sales'].diff(+1)"
      ],
      "metadata": {
        "id": "9X7uZefqbdNC"
      },
      "execution_count": null,
      "outputs": []
    },
    {
      "cell_type": "markdown",
      "source": [
        " In a Time Series problem, it is common to use the Rolling Statistics, for instance:\n",
        "\n",
        "-Mean\n",
        "\n",
        "-Max\n",
        "\n",
        "-Min\n",
        "\n",
        "-Std\n",
        "\n",
        "In this particular problem I will only use the mean of the last 4 periods."
      ],
      "metadata": {
        "id": "PiLkn1GnjSTc"
      }
    },
    {
      "cell_type": "code",
      "source": [
        "# 3- Mean of the last 4 periods.\n",
        "train_df['Mean']=train_df.groupby('Product_Code')['Sales'].rolling(4).mean().reset_index(level=0, drop=True)\n",
        "val_df['Mean']=val_df.groupby('Product_Code')['Sales'].rolling(4).mean().reset_index(level=0, drop=True)"
      ],
      "metadata": {
        "id": "Rk4gcipEhB1a"
      },
      "execution_count": null,
      "outputs": []
    },
    {
      "cell_type": "code",
      "source": [
        "#4 - Linear Regression for the 4 last periods.\n",
        "from sklearn.linear_model import LinearRegression\n",
        "lin_model=LinearRegression()\n",
        "train_df['Reg_Lin_Next_Sale']=0\n",
        "produto=train_df['Product_Code'].unique()\n",
        "for x in produto:\n",
        "  for linha in range(4,43):\n",
        " \n",
        "    ylin=train_df.loc[train_df['Product_Code']==x,'Sales'].iloc[linha-4:linha]\n",
        "    xlin=np.array([1,2,3,4]).reshape(-1,1)\n",
        "    lin_model.fit(xlin,ylin)\n",
        "    train_df.loc[(train_df['Product_Code']==x)&(train_df['Week']=='W{}'.format(linha-1)), 'Reg_Lin_Next_Sale']=lin_model.predict(np.array(5).reshape(-1,1))\n",
        "  "
      ],
      "metadata": {
        "id": "U8fBA9tZkGtL"
      },
      "execution_count": null,
      "outputs": []
    },
    {
      "cell_type": "code",
      "source": [
        "val_df['Reg_Lin_Next_Sale']=0\n",
        "produto=val_df['Product_Code'].unique()\n",
        "for x in produto:\n",
        "  for linha in range(4,11):  \n",
        "    ylin=val_df.loc[val_df['Product_Code']==x,'Sales'].iloc[linha-4:linha]\n",
        "    xlin=np.array([1,2,3,4]).reshape(-1,1)\n",
        "    lin_model.fit(xlin,ylin)\n",
        "    val_df.loc[(val_df['Product_Code']==x)&(val_df['Week']=='W{}'.format(linha+41)), 'Reg_Lin_Next_Sale']=lin_model.predict(np.array(5).reshape(-1,1))\n"
      ],
      "metadata": {
        "id": "RUT9Qx7u3QEq"
      },
      "execution_count": null,
      "outputs": []
    },
    {
      "cell_type": "code",
      "source": [
        "# Dropping the NaN.\n",
        "train_df.dropna(inplace=True)\n",
        "val_df.dropna(inplace=True)"
      ],
      "metadata": {
        "id": "LvrhQn1Cksw9"
      },
      "execution_count": null,
      "outputs": []
    },
    {
      "cell_type": "markdown",
      "source": [
        "# Defining our Baseline"
      ],
      "metadata": {
        "id": "kwIBWmzWXLXp"
      }
    },
    {
      "cell_type": "markdown",
      "source": [
        "Before Creating the model, we have to define how we are going to calculate the Baseline, that is essential to evaluate it. Let's assume as a Baseline that the sales of the next week are going to be the same as the sales of the current week."
      ],
      "metadata": {
        "id": "fN74KMBUXWbD"
      }
    },
    {
      "cell_type": "markdown",
      "source": [
        "As there are some Sales with a 0, the MAPE can't be calculate, so let's calculate the WMAPE (weighted mean absolute percentage error)."
      ],
      "metadata": {
        "id": "XNcs2wm0JMOI"
      }
    },
    {
      "cell_type": "code",
      "source": [
        "#WMAPE for the Baseline\n",
        "np.sum(np.abs(train_df['Sales']-train_df['Sales_Next_Week'])/np.sum(np.abs(train_df['Sales']))), np.sum(np.abs(val_df['Sales']-val_df['Sales_Next_Week'])/np.sum(np.abs(val_df['Sales'])))"
      ],
      "metadata": {
        "colab": {
          "base_uri": "https://localhost:8080/"
        },
        "id": "2-xNESE9N7z0",
        "outputId": "9ce96edf-0e36-473c-b36e-8ca72e8a1301"
      },
      "execution_count": null,
      "outputs": [
        {
          "output_type": "execute_result",
          "data": {
            "text/plain": [
              "(0.3086110980407771, 0.31761576308293515)"
            ]
          },
          "metadata": {},
          "execution_count": 125
        }
      ]
    },
    {
      "cell_type": "markdown",
      "source": [
        "The WMAPE of the Baseline using the validation dataset is 0.3176."
      ],
      "metadata": {
        "id": "xQtaezzsX42T"
      }
    },
    {
      "cell_type": "markdown",
      "source": [
        "# Creating and Training the Model"
      ],
      "metadata": {
        "id": "Ekwi7_31X26n"
      }
    },
    {
      "cell_type": "code",
      "source": [
        "features=['Sales', 'Lag', 'Dif', 'Mean', 'Reg_Lin_Next_Sale']\n",
        "x_train=train_df[features]\n",
        "x_val=val_df[features]\n",
        "y_train=train_df['Sales_Next_Week']\n",
        "y_val=val_df['Sales_Next_Week']"
      ],
      "metadata": {
        "id": "70BUjxy7mw54"
      },
      "execution_count": null,
      "outputs": []
    },
    {
      "cell_type": "markdown",
      "source": [
        "There are several machine learning alghoritms that could be used to build our model. We decided to use the RandomForestRegressor.\n",
        "\n",
        "For the hiperparameter tuning we are going to use the RandomizedSearchCV."
      ],
      "metadata": {
        "id": "2XDL2SzPYLsh"
      }
    },
    {
      "cell_type": "code",
      "source": [
        "from sklearn.model_selection import RandomizedSearchCV\n",
        "from sklearn.ensemble import RandomForestRegressor\n",
        "param_grid = {'max_depth': [3,4,5,6,7,8,9,10], 'min_samples_leaf': [10,20,30,40,50], 'max_features': ['int','float','auto','log2']} \n",
        "model= RandomizedSearchCV(RandomForestRegressor(),param_grid,n_iter=20,refit=True,verbose=3, \n",
        "                              scoring='neg_mean_absolute_percentage_error', random_state=42)\n",
        "model.fit(x_train,y_train)\n"
      ],
      "metadata": {
        "colab": {
          "base_uri": "https://localhost:8080/"
        },
        "id": "xH79rbsNE1r_",
        "outputId": "feb23a4d-5ab8-4467-fa82-61b0a6d4bb4e"
      },
      "execution_count": null,
      "outputs": [
        {
          "output_type": "stream",
          "name": "stdout",
          "text": [
            "Fitting 5 folds for each of 5 candidates, totalling 25 fits\n",
            "[CV 1/5] END max_depth=8, max_features=float, min_samples_leaf=10;, score=nan total time=   0.1s\n",
            "[CV 2/5] END max_depth=8, max_features=float, min_samples_leaf=10;, score=nan total time=   0.1s\n",
            "[CV 3/5] END max_depth=8, max_features=float, min_samples_leaf=10;, score=nan total time=   0.2s\n",
            "[CV 4/5] END max_depth=8, max_features=float, min_samples_leaf=10;, score=nan total time=   0.1s\n",
            "[CV 5/5] END max_depth=8, max_features=float, min_samples_leaf=10;, score=nan total time=   0.1s\n",
            "[CV 1/5] END max_depth=8, max_features=float, min_samples_leaf=40;, score=nan total time=   0.2s\n",
            "[CV 2/5] END max_depth=8, max_features=float, min_samples_leaf=40;, score=nan total time=   0.1s\n",
            "[CV 3/5] END max_depth=8, max_features=float, min_samples_leaf=40;, score=nan total time=   0.1s\n",
            "[CV 4/5] END max_depth=8, max_features=float, min_samples_leaf=40;, score=nan total time=   0.1s\n",
            "[CV 5/5] END max_depth=8, max_features=float, min_samples_leaf=40;, score=nan total time=   0.1s\n",
            "[CV 1/5] END max_depth=10, max_features=int, min_samples_leaf=20;, score=nan total time=   0.1s\n",
            "[CV 2/5] END max_depth=10, max_features=int, min_samples_leaf=20;, score=nan total time=   0.1s\n",
            "[CV 3/5] END max_depth=10, max_features=int, min_samples_leaf=20;, score=nan total time=   0.1s\n",
            "[CV 4/5] END max_depth=10, max_features=int, min_samples_leaf=20;, score=nan total time=   0.1s\n",
            "[CV 5/5] END max_depth=10, max_features=int, min_samples_leaf=20;, score=nan total time=   0.1s\n",
            "[CV 1/5] END max_depth=5, max_features=log2, min_samples_leaf=10;, score=-681421895738452.375 total time=   1.7s\n",
            "[CV 2/5] END max_depth=5, max_features=log2, min_samples_leaf=10;, score=-651327993134364.750 total time=   0.8s\n",
            "[CV 3/5] END max_depth=5, max_features=log2, min_samples_leaf=10;, score=-591070293232654.750 total time=   0.8s\n",
            "[CV 4/5] END max_depth=5, max_features=log2, min_samples_leaf=10;, score=-834868970581531.625 total time=   0.8s\n",
            "[CV 5/5] END max_depth=5, max_features=log2, min_samples_leaf=10;, score=-713819798600572.750 total time=   0.8s\n",
            "[CV 1/5] END max_depth=7, max_features=auto, min_samples_leaf=50;, score=-550647738549907.375 total time=   1.8s\n",
            "[CV 2/5] END max_depth=7, max_features=auto, min_samples_leaf=50;, score=-549963106330419.188 total time=   1.8s\n",
            "[CV 3/5] END max_depth=7, max_features=auto, min_samples_leaf=50;, score=-478458968346716.312 total time=   1.8s\n",
            "[CV 4/5] END max_depth=7, max_features=auto, min_samples_leaf=50;, score=-769106796746014.500 total time=   1.8s\n",
            "[CV 5/5] END max_depth=7, max_features=auto, min_samples_leaf=50;, score=-625527313364697.125 total time=   1.8s\n"
          ]
        },
        {
          "output_type": "execute_result",
          "data": {
            "text/plain": [
              "RandomizedSearchCV(estimator=RandomForestRegressor(), n_iter=5,\n",
              "                   param_distributions={'max_depth': [3, 4, 5, 6, 7, 8, 9, 10],\n",
              "                                        'max_features': ['int', 'float', 'auto',\n",
              "                                                         'log2'],\n",
              "                                        'min_samples_leaf': [10, 20, 30, 40,\n",
              "                                                             50]},\n",
              "                   random_state=42,\n",
              "                   scoring='neg_mean_absolute_percentage_error', verbose=3)"
            ]
          },
          "metadata": {},
          "execution_count": 128
        }
      ]
    },
    {
      "cell_type": "code",
      "source": [
        "#These are the best parameters that RandomizedSearchCV chose.\n",
        "model.best_params_"
      ],
      "metadata": {
        "id": "X-54y9pTI7Av"
      },
      "execution_count": null,
      "outputs": []
    },
    {
      "cell_type": "code",
      "source": [
        "#Making The predicition\n",
        "predictiontrain=model.predict(x_train)\n",
        "predictionval=model.predict(x_val)"
      ],
      "metadata": {
        "id": "kC0ciG2JM2kB"
      },
      "execution_count": null,
      "outputs": []
    },
    {
      "cell_type": "markdown",
      "source": [
        "# Model Evaluation (WMAPE Metric)"
      ],
      "metadata": {
        "id": "TYIMpZtUaceh"
      }
    },
    {
      "cell_type": "code",
      "source": [
        "np.sum(np.abs(y_train-predictiontrain)/np.sum(np.abs(y_train))), np.sum(np.abs(y_val-predictionval)/np.sum(np.abs(y_val)))"
      ],
      "metadata": {
        "id": "D7dfAyZuNDPw",
        "colab": {
          "base_uri": "https://localhost:8080/"
        },
        "outputId": "2e17bea8-15b9-43c3-dbaa-25fa7234d4b2"
      },
      "execution_count": null,
      "outputs": [
        {
          "output_type": "execute_result",
          "data": {
            "text/plain": [
              "(0.24969633751685696, 0.2754124565579399)"
            ]
          },
          "metadata": {},
          "execution_count": 131
        }
      ]
    },
    {
      "cell_type": "markdown",
      "source": [
        "The Baseline brought a WMAPE of 0.3176 and our model brought a WMAPE of 0.2754, that is an improvement of more than 10%.\n",
        "\n",
        "\n",
        "There are other things that could be done to improve our model, as testing new features, using a Recurrent Neural Network model, and others. We also could make a more complex validation, using the cross validation.\n",
        "\n",
        "\n",
        "It's worth to mention that the horizon used in this dataset is short. We had data of only one year and could see only two trends and seasons. If we had data of a long time horizon, we would certainly do better forecasts.\n",
        "\n",
        "\n",
        "That said, the main goal of this project was reached, as we got with a simple model, a big improvement in relation to a Baseline one."
      ],
      "metadata": {
        "id": "Mw_GiU8vZB9q"
      }
    }
  ]
}